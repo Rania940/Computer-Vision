{
  "nbformat": 4,
  "nbformat_minor": 0,
  "metadata": {
    "colab": {
      "provenance": []
    },
    "kernelspec": {
      "name": "python3",
      "display_name": "Python 3"
    },
    "language_info": {
      "name": "python"
    }
  },
  "cells": [
    {
      "cell_type": "code",
      "execution_count": null,
      "metadata": {
        "id": "ZKeTdazb5TBq"
      },
      "outputs": [],
      "source": [
        "import os"
      ]
    },
    {
      "cell_type": "code",
      "source": [
        "os.environ['KAGGLE_USERNAME']=\"raninaattef\"\n",
        "os.environ['KAGGLE_KEY']=\"a269bf45e22b6bed87e181047763d366\"\n",
        "!kaggle datasets download -d yasserh/housing-prices-dataset #copy api"
      ],
      "metadata": {
        "colab": {
          "base_uri": "https://localhost:8080/"
        },
        "id": "3h--nncl_x78",
        "outputId": "da1b1d90-8e29-441e-875e-8a92061caea8"
      },
      "execution_count": null,
      "outputs": [
        {
          "output_type": "stream",
          "name": "stdout",
          "text": [
            "Downloading housing-prices-dataset.zip to /content\n",
            "\r  0% 0.00/4.63k [00:00<?, ?B/s]\n",
            "\r100% 4.63k/4.63k [00:00<00:00, 3.28MB/s]\n"
          ]
        }
      ]
    },
    {
      "cell_type": "code",
      "source": [
        "!ls"
      ],
      "metadata": {
        "colab": {
          "base_uri": "https://localhost:8080/"
        },
        "id": "c1zcZ8___5Qg",
        "outputId": "5de83578-d89e-482a-a7c1-99f2f8f97c73"
      },
      "execution_count": null,
      "outputs": [
        {
          "output_type": "stream",
          "name": "stdout",
          "text": [
            "housing-prices-dataset.zip  sample_data\n"
          ]
        }
      ]
    },
    {
      "cell_type": "code",
      "source": [
        "!unzip housing-prices-dataset"
      ],
      "metadata": {
        "colab": {
          "base_uri": "https://localhost:8080/"
        },
        "id": "_fJj1vwh_9H3",
        "outputId": "a881b73d-07c7-4e13-8046-377dd45f0f9e"
      },
      "execution_count": null,
      "outputs": [
        {
          "output_type": "stream",
          "name": "stdout",
          "text": [
            "Archive:  housing-prices-dataset.zip\n",
            "  inflating: Housing.csv             \n"
          ]
        }
      ]
    },
    {
      "cell_type": "code",
      "source": [
        "import keras\n",
        "from keras.datasets import boston_housing\n",
        "from keras.models import Sequential\n",
        "from keras.layers import Dense\n",
        "from keras.optimizers import RMSprop\n",
        "from keras.callbacks import EarlyStopping\n",
        "from sklearn import preprocessing\n",
        "from sklearn.preprocessing import scale\n",
        "from keras.datasets import mnist"
      ],
      "metadata": {
        "id": "VJiFAhonAWWl"
      },
      "execution_count": null,
      "outputs": []
    },
    {
      "cell_type": "code",
      "source": [
        "(x_train, y_train), (x_test, y_test) = boston_housing.load_data()"
      ],
      "metadata": {
        "id": "N_WtxRYSAdU2"
      },
      "execution_count": null,
      "outputs": []
    },
    {
      "cell_type": "code",
      "source": [],
      "metadata": {
        "id": "snb2X5CjFIf_"
      },
      "execution_count": null,
      "outputs": []
    },
    {
      "cell_type": "code",
      "source": [
        "x_train_scaled = preprocessing.scale(x_train)\n",
        "scaler = preprocessing.StandardScaler().fit(x_train)\n",
        "x_test_scaled = scaler.transform(x_test)\n"
      ],
      "metadata": {
        "id": "4fl1iMCyAmeA"
      },
      "execution_count": null,
      "outputs": []
    },
    {
      "cell_type": "code",
      "source": [
        "model = Sequential()\n",
        "model.add(Dense(64, kernel_initializer='normal', activation='relu',input_shape=(187,)))\n",
        "model.add(Dense(64, activation='relu'))\n",
        "model.add(Dense(1))"
      ],
      "metadata": {
        "id": "H10TivuOAyaN"
      },
      "execution_count": null,
      "outputs": []
    },
    {
      "cell_type": "code",
      "source": [
        "model.compile(loss='mse',\n",
        " optimizer=RMSprop(),\n",
        " metrics=['mean_absolute_error'])"
      ],
      "metadata": {
        "id": "e-TJzAJ8BH0v"
      },
      "execution_count": null,
      "outputs": []
    },
    {
      "cell_type": "code",
      "source": [
        "history = model.fit(x_train_scaled, y_train,\n",
        " batch_size=128,\n",
        "epochs=500,\n",
        "verbose=1,\n",
        "validation_split = 0.2,\n",
        "callbacks = [EarlyStopping(monitor = 'val_loss', patience =\n",
        "20)])"
      ],
      "metadata": {
        "colab": {
          "base_uri": "https://localhost:8080/"
        },
        "id": "3v1ztn5zBPed",
        "outputId": "22f43971-3317-440e-be4c-a6ef36788aca"
      },
      "execution_count": null,
      "outputs": [
        {
          "output_type": "stream",
          "name": "stdout",
          "text": [
            "Epoch 1/500\n",
            "3/3 [==============================] - 2s 215ms/step - loss: 563.5707 - mean_absolute_error: 21.8856 - val_loss: 625.4168 - val_mean_absolute_error: 23.2318\n",
            "Epoch 2/500\n",
            "3/3 [==============================] - 0s 42ms/step - loss: 550.8540 - mean_absolute_error: 21.5820 - val_loss: 613.1986 - val_mean_absolute_error: 22.9588\n",
            "Epoch 3/500\n",
            "3/3 [==============================] - 0s 38ms/step - loss: 538.6356 - mean_absolute_error: 21.2904 - val_loss: 599.3733 - val_mean_absolute_error: 22.6497\n",
            "Epoch 4/500\n",
            "3/3 [==============================] - 0s 32ms/step - loss: 524.6436 - mean_absolute_error: 20.9629 - val_loss: 583.4100 - val_mean_absolute_error: 22.2922\n",
            "Epoch 5/500\n",
            "3/3 [==============================] - 0s 19ms/step - loss: 508.4760 - mean_absolute_error: 20.5841 - val_loss: 565.0562 - val_mean_absolute_error: 21.8773\n",
            "Epoch 6/500\n",
            "3/3 [==============================] - 0s 20ms/step - loss: 490.1532 - mean_absolute_error: 20.1519 - val_loss: 544.8300 - val_mean_absolute_error: 21.4127\n",
            "Epoch 7/500\n",
            "3/3 [==============================] - 0s 19ms/step - loss: 469.8641 - mean_absolute_error: 19.6646 - val_loss: 522.3625 - val_mean_absolute_error: 20.8916\n",
            "Epoch 8/500\n",
            "3/3 [==============================] - 0s 18ms/step - loss: 447.7066 - mean_absolute_error: 19.1320 - val_loss: 498.3984 - val_mean_absolute_error: 20.3200\n",
            "Epoch 9/500\n",
            "3/3 [==============================] - 0s 22ms/step - loss: 423.6458 - mean_absolute_error: 18.5449 - val_loss: 471.7778 - val_mean_absolute_error: 19.6806\n",
            "Epoch 10/500\n",
            "3/3 [==============================] - 0s 19ms/step - loss: 397.4079 - mean_absolute_error: 17.8859 - val_loss: 443.8456 - val_mean_absolute_error: 18.9956\n",
            "Epoch 11/500\n",
            "3/3 [==============================] - 0s 25ms/step - loss: 370.4395 - mean_absolute_error: 17.1802 - val_loss: 416.0875 - val_mean_absolute_error: 18.2815\n",
            "Epoch 12/500\n",
            "3/3 [==============================] - 0s 18ms/step - loss: 343.7156 - mean_absolute_error: 16.4413 - val_loss: 388.0574 - val_mean_absolute_error: 17.5227\n",
            "Epoch 13/500\n",
            "3/3 [==============================] - 0s 18ms/step - loss: 316.9597 - mean_absolute_error: 15.6778 - val_loss: 360.2610 - val_mean_absolute_error: 16.7298\n",
            "Epoch 14/500\n",
            "3/3 [==============================] - 0s 21ms/step - loss: 290.1465 - mean_absolute_error: 14.9040 - val_loss: 331.0856 - val_mean_absolute_error: 15.8545\n",
            "Epoch 15/500\n",
            "3/3 [==============================] - 0s 20ms/step - loss: 262.9306 - mean_absolute_error: 14.0721 - val_loss: 303.0399 - val_mean_absolute_error: 14.9611\n",
            "Epoch 16/500\n",
            "3/3 [==============================] - 0s 20ms/step - loss: 237.0150 - mean_absolute_error: 13.2214 - val_loss: 276.2437 - val_mean_absolute_error: 14.0553\n",
            "Epoch 17/500\n",
            "3/3 [==============================] - 0s 19ms/step - loss: 212.6348 - mean_absolute_error: 12.3549 - val_loss: 251.4917 - val_mean_absolute_error: 13.1732\n",
            "Epoch 18/500\n",
            "3/3 [==============================] - 0s 19ms/step - loss: 190.6975 - mean_absolute_error: 11.5120 - val_loss: 229.2215 - val_mean_absolute_error: 12.3204\n",
            "Epoch 19/500\n",
            "3/3 [==============================] - 0s 27ms/step - loss: 170.8182 - mean_absolute_error: 10.7656 - val_loss: 208.2409 - val_mean_absolute_error: 11.4856\n",
            "Epoch 20/500\n",
            "3/3 [==============================] - 0s 19ms/step - loss: 152.6130 - mean_absolute_error: 10.0177 - val_loss: 188.8482 - val_mean_absolute_error: 10.7217\n",
            "Epoch 21/500\n",
            "3/3 [==============================] - 0s 22ms/step - loss: 136.2776 - mean_absolute_error: 9.3442 - val_loss: 171.6957 - val_mean_absolute_error: 10.0819\n",
            "Epoch 22/500\n",
            "3/3 [==============================] - 0s 19ms/step - loss: 122.3906 - mean_absolute_error: 8.7514 - val_loss: 156.5479 - val_mean_absolute_error: 9.5288\n",
            "Epoch 23/500\n",
            "3/3 [==============================] - 0s 19ms/step - loss: 110.2080 - mean_absolute_error: 8.2605 - val_loss: 142.2590 - val_mean_absolute_error: 9.0118\n",
            "Epoch 24/500\n",
            "3/3 [==============================] - 0s 29ms/step - loss: 99.2550 - mean_absolute_error: 7.7651 - val_loss: 130.3794 - val_mean_absolute_error: 8.5815\n",
            "Epoch 25/500\n",
            "3/3 [==============================] - 0s 21ms/step - loss: 90.0465 - mean_absolute_error: 7.3456 - val_loss: 119.0453 - val_mean_absolute_error: 8.1615\n",
            "Epoch 26/500\n",
            "3/3 [==============================] - 0s 29ms/step - loss: 81.8971 - mean_absolute_error: 6.9665 - val_loss: 109.3885 - val_mean_absolute_error: 7.8013\n",
            "Epoch 27/500\n",
            "3/3 [==============================] - 0s 21ms/step - loss: 74.8460 - mean_absolute_error: 6.6419 - val_loss: 100.2753 - val_mean_absolute_error: 7.4515\n",
            "Epoch 28/500\n",
            "3/3 [==============================] - 0s 19ms/step - loss: 68.1540 - mean_absolute_error: 6.3059 - val_loss: 92.6991 - val_mean_absolute_error: 7.1506\n",
            "Epoch 29/500\n",
            "3/3 [==============================] - 0s 18ms/step - loss: 62.8525 - mean_absolute_error: 6.0276 - val_loss: 85.2136 - val_mean_absolute_error: 6.8696\n",
            "Epoch 30/500\n",
            "3/3 [==============================] - 0s 22ms/step - loss: 57.6857 - mean_absolute_error: 5.7429 - val_loss: 79.4765 - val_mean_absolute_error: 6.6413\n",
            "Epoch 31/500\n",
            "3/3 [==============================] - 0s 18ms/step - loss: 53.6416 - mean_absolute_error: 5.5005 - val_loss: 73.6817 - val_mean_absolute_error: 6.4078\n",
            "Epoch 32/500\n",
            "3/3 [==============================] - 0s 19ms/step - loss: 49.7910 - mean_absolute_error: 5.2432 - val_loss: 68.6459 - val_mean_absolute_error: 6.1820\n",
            "Epoch 33/500\n",
            "3/3 [==============================] - 0s 18ms/step - loss: 46.5032 - mean_absolute_error: 5.0012 - val_loss: 63.7110 - val_mean_absolute_error: 5.9536\n",
            "Epoch 34/500\n",
            "3/3 [==============================] - 0s 19ms/step - loss: 43.5280 - mean_absolute_error: 4.7891 - val_loss: 59.3924 - val_mean_absolute_error: 5.7574\n",
            "Epoch 35/500\n",
            "3/3 [==============================] - 0s 19ms/step - loss: 40.7392 - mean_absolute_error: 4.5797 - val_loss: 55.9023 - val_mean_absolute_error: 5.5793\n",
            "Epoch 36/500\n",
            "3/3 [==============================] - 0s 19ms/step - loss: 38.5496 - mean_absolute_error: 4.3892 - val_loss: 52.4659 - val_mean_absolute_error: 5.3985\n",
            "Epoch 37/500\n",
            "3/3 [==============================] - 0s 18ms/step - loss: 36.4759 - mean_absolute_error: 4.2234 - val_loss: 48.9302 - val_mean_absolute_error: 5.2086\n",
            "Epoch 38/500\n",
            "3/3 [==============================] - 0s 20ms/step - loss: 34.7736 - mean_absolute_error: 4.0744 - val_loss: 46.3387 - val_mean_absolute_error: 5.0667\n",
            "Epoch 39/500\n",
            "3/3 [==============================] - 0s 22ms/step - loss: 33.1383 - mean_absolute_error: 3.9704 - val_loss: 43.7268 - val_mean_absolute_error: 4.9030\n",
            "Epoch 40/500\n",
            "3/3 [==============================] - 0s 18ms/step - loss: 31.7005 - mean_absolute_error: 3.8448 - val_loss: 41.7405 - val_mean_absolute_error: 4.7886\n",
            "Epoch 41/500\n",
            "3/3 [==============================] - 0s 27ms/step - loss: 30.4975 - mean_absolute_error: 3.7430 - val_loss: 39.8737 - val_mean_absolute_error: 4.6740\n",
            "Epoch 42/500\n",
            "3/3 [==============================] - 0s 19ms/step - loss: 29.5437 - mean_absolute_error: 3.6591 - val_loss: 37.5811 - val_mean_absolute_error: 4.5681\n",
            "Epoch 43/500\n",
            "3/3 [==============================] - 0s 19ms/step - loss: 28.5035 - mean_absolute_error: 3.6196 - val_loss: 35.9778 - val_mean_absolute_error: 4.4905\n",
            "Epoch 44/500\n",
            "3/3 [==============================] - 0s 19ms/step - loss: 27.9155 - mean_absolute_error: 3.5698 - val_loss: 34.7604 - val_mean_absolute_error: 4.4485\n",
            "Epoch 45/500\n",
            "3/3 [==============================] - 0s 23ms/step - loss: 27.1788 - mean_absolute_error: 3.5441 - val_loss: 33.5158 - val_mean_absolute_error: 4.3942\n",
            "Epoch 46/500\n",
            "3/3 [==============================] - 0s 19ms/step - loss: 26.5656 - mean_absolute_error: 3.4983 - val_loss: 32.0892 - val_mean_absolute_error: 4.2808\n",
            "Epoch 47/500\n",
            "3/3 [==============================] - 0s 20ms/step - loss: 25.7089 - mean_absolute_error: 3.4410 - val_loss: 31.2675 - val_mean_absolute_error: 4.2595\n",
            "Epoch 48/500\n",
            "3/3 [==============================] - 0s 20ms/step - loss: 25.4079 - mean_absolute_error: 3.4173 - val_loss: 30.3941 - val_mean_absolute_error: 4.1817\n",
            "Epoch 49/500\n",
            "3/3 [==============================] - 0s 21ms/step - loss: 24.7702 - mean_absolute_error: 3.3690 - val_loss: 29.7430 - val_mean_absolute_error: 4.1365\n",
            "Epoch 50/500\n",
            "3/3 [==============================] - 0s 19ms/step - loss: 24.1845 - mean_absolute_error: 3.3316 - val_loss: 28.9201 - val_mean_absolute_error: 4.0803\n",
            "Epoch 51/500\n",
            "3/3 [==============================] - 0s 19ms/step - loss: 23.6473 - mean_absolute_error: 3.2967 - val_loss: 28.1668 - val_mean_absolute_error: 4.0209\n",
            "Epoch 52/500\n",
            "3/3 [==============================] - 0s 18ms/step - loss: 23.3311 - mean_absolute_error: 3.2737 - val_loss: 27.3913 - val_mean_absolute_error: 4.0186\n",
            "Epoch 53/500\n",
            "3/3 [==============================] - 0s 21ms/step - loss: 22.6703 - mean_absolute_error: 3.2395 - val_loss: 26.7457 - val_mean_absolute_error: 3.9700\n",
            "Epoch 54/500\n",
            "3/3 [==============================] - 0s 17ms/step - loss: 22.2538 - mean_absolute_error: 3.2243 - val_loss: 26.0136 - val_mean_absolute_error: 3.8676\n",
            "Epoch 55/500\n",
            "3/3 [==============================] - 0s 18ms/step - loss: 21.7379 - mean_absolute_error: 3.1648 - val_loss: 25.3746 - val_mean_absolute_error: 3.8391\n",
            "Epoch 56/500\n",
            "3/3 [==============================] - 0s 18ms/step - loss: 21.4013 - mean_absolute_error: 3.1627 - val_loss: 25.0131 - val_mean_absolute_error: 3.8025\n",
            "Epoch 57/500\n",
            "3/3 [==============================] - 0s 19ms/step - loss: 20.9582 - mean_absolute_error: 3.1084 - val_loss: 24.5092 - val_mean_absolute_error: 3.7590\n",
            "Epoch 58/500\n",
            "3/3 [==============================] - 0s 19ms/step - loss: 20.7457 - mean_absolute_error: 3.1202 - val_loss: 24.0182 - val_mean_absolute_error: 3.6940\n",
            "Epoch 59/500\n",
            "3/3 [==============================] - 0s 20ms/step - loss: 20.2642 - mean_absolute_error: 3.0488 - val_loss: 23.3196 - val_mean_absolute_error: 3.6737\n",
            "Epoch 60/500\n",
            "3/3 [==============================] - 0s 19ms/step - loss: 19.5476 - mean_absolute_error: 2.9985 - val_loss: 22.8853 - val_mean_absolute_error: 3.6735\n",
            "Epoch 61/500\n",
            "3/3 [==============================] - 0s 21ms/step - loss: 19.3737 - mean_absolute_error: 2.9846 - val_loss: 22.4847 - val_mean_absolute_error: 3.6376\n",
            "Epoch 62/500\n",
            "3/3 [==============================] - 0s 19ms/step - loss: 18.9587 - mean_absolute_error: 2.9902 - val_loss: 21.9064 - val_mean_absolute_error: 3.5036\n",
            "Epoch 63/500\n",
            "3/3 [==============================] - 0s 19ms/step - loss: 18.7425 - mean_absolute_error: 2.9310 - val_loss: 21.4781 - val_mean_absolute_error: 3.4953\n",
            "Epoch 64/500\n",
            "3/3 [==============================] - 0s 28ms/step - loss: 18.5317 - mean_absolute_error: 2.9258 - val_loss: 21.1357 - val_mean_absolute_error: 3.5126\n",
            "Epoch 65/500\n",
            "3/3 [==============================] - 0s 20ms/step - loss: 17.8662 - mean_absolute_error: 2.8710 - val_loss: 20.6827 - val_mean_absolute_error: 3.5021\n",
            "Epoch 66/500\n",
            "3/3 [==============================] - 0s 20ms/step - loss: 17.5438 - mean_absolute_error: 2.8444 - val_loss: 20.0935 - val_mean_absolute_error: 3.3853\n",
            "Epoch 67/500\n",
            "3/3 [==============================] - 0s 40ms/step - loss: 17.1933 - mean_absolute_error: 2.8248 - val_loss: 20.9246 - val_mean_absolute_error: 3.5448\n",
            "Epoch 68/500\n",
            "3/3 [==============================] - 0s 41ms/step - loss: 17.1679 - mean_absolute_error: 2.8612 - val_loss: 19.6962 - val_mean_absolute_error: 3.3719\n",
            "Epoch 69/500\n",
            "3/3 [==============================] - 0s 35ms/step - loss: 16.4603 - mean_absolute_error: 2.7320 - val_loss: 19.2250 - val_mean_absolute_error: 3.3386\n",
            "Epoch 70/500\n",
            "3/3 [==============================] - 0s 35ms/step - loss: 16.1153 - mean_absolute_error: 2.7205 - val_loss: 18.8997 - val_mean_absolute_error: 3.3207\n",
            "Epoch 71/500\n",
            "3/3 [==============================] - 0s 36ms/step - loss: 16.0337 - mean_absolute_error: 2.7182 - val_loss: 18.8298 - val_mean_absolute_error: 3.2083\n",
            "Epoch 72/500\n",
            "3/3 [==============================] - 0s 28ms/step - loss: 15.7096 - mean_absolute_error: 2.6801 - val_loss: 18.5833 - val_mean_absolute_error: 3.3037\n",
            "Epoch 73/500\n",
            "3/3 [==============================] - 0s 37ms/step - loss: 15.5874 - mean_absolute_error: 2.6797 - val_loss: 18.3486 - val_mean_absolute_error: 3.2686\n",
            "Epoch 74/500\n",
            "3/3 [==============================] - 0s 39ms/step - loss: 15.0377 - mean_absolute_error: 2.6512 - val_loss: 17.6721 - val_mean_absolute_error: 3.1683\n",
            "Epoch 75/500\n",
            "3/3 [==============================] - 0s 28ms/step - loss: 14.7879 - mean_absolute_error: 2.6108 - val_loss: 17.5221 - val_mean_absolute_error: 3.1134\n",
            "Epoch 76/500\n",
            "3/3 [==============================] - 0s 34ms/step - loss: 14.5856 - mean_absolute_error: 2.5769 - val_loss: 17.1572 - val_mean_absolute_error: 3.0882\n",
            "Epoch 77/500\n",
            "3/3 [==============================] - 0s 35ms/step - loss: 14.4168 - mean_absolute_error: 2.5796 - val_loss: 16.9961 - val_mean_absolute_error: 3.1123\n",
            "Epoch 78/500\n",
            "3/3 [==============================] - 0s 27ms/step - loss: 13.9516 - mean_absolute_error: 2.5236 - val_loss: 17.0960 - val_mean_absolute_error: 3.1252\n",
            "Epoch 79/500\n",
            "3/3 [==============================] - 0s 33ms/step - loss: 14.0416 - mean_absolute_error: 2.5090 - val_loss: 17.0542 - val_mean_absolute_error: 3.0939\n",
            "Epoch 80/500\n",
            "3/3 [==============================] - 0s 29ms/step - loss: 13.6780 - mean_absolute_error: 2.4976 - val_loss: 16.8825 - val_mean_absolute_error: 3.0540\n",
            "Epoch 81/500\n",
            "3/3 [==============================] - 0s 39ms/step - loss: 13.4462 - mean_absolute_error: 2.4897 - val_loss: 16.5072 - val_mean_absolute_error: 3.0047\n",
            "Epoch 82/500\n",
            "3/3 [==============================] - 0s 33ms/step - loss: 13.1762 - mean_absolute_error: 2.4610 - val_loss: 16.8218 - val_mean_absolute_error: 3.0839\n",
            "Epoch 83/500\n",
            "3/3 [==============================] - 0s 38ms/step - loss: 12.8246 - mean_absolute_error: 2.4400 - val_loss: 16.2911 - val_mean_absolute_error: 3.0023\n",
            "Epoch 84/500\n",
            "3/3 [==============================] - 0s 28ms/step - loss: 12.8404 - mean_absolute_error: 2.4224 - val_loss: 16.9758 - val_mean_absolute_error: 3.1047\n",
            "Epoch 85/500\n",
            "3/3 [==============================] - 0s 34ms/step - loss: 12.4847 - mean_absolute_error: 2.4232 - val_loss: 15.8342 - val_mean_absolute_error: 2.9660\n",
            "Epoch 86/500\n",
            "3/3 [==============================] - 0s 37ms/step - loss: 12.3913 - mean_absolute_error: 2.3629 - val_loss: 16.0390 - val_mean_absolute_error: 2.9724\n",
            "Epoch 87/500\n",
            "3/3 [==============================] - 0s 26ms/step - loss: 12.0879 - mean_absolute_error: 2.3671 - val_loss: 15.7137 - val_mean_absolute_error: 2.8698\n",
            "Epoch 88/500\n",
            "3/3 [==============================] - 0s 28ms/step - loss: 12.1436 - mean_absolute_error: 2.3307 - val_loss: 15.7558 - val_mean_absolute_error: 2.9173\n",
            "Epoch 89/500\n",
            "3/3 [==============================] - 0s 35ms/step - loss: 11.8771 - mean_absolute_error: 2.3488 - val_loss: 15.3260 - val_mean_absolute_error: 2.8568\n",
            "Epoch 90/500\n",
            "3/3 [==============================] - 0s 35ms/step - loss: 12.1519 - mean_absolute_error: 2.3232 - val_loss: 15.3501 - val_mean_absolute_error: 2.8343\n",
            "Epoch 91/500\n",
            "3/3 [==============================] - 0s 26ms/step - loss: 11.7375 - mean_absolute_error: 2.3059 - val_loss: 15.0979 - val_mean_absolute_error: 2.8496\n",
            "Epoch 92/500\n",
            "3/3 [==============================] - 0s 33ms/step - loss: 11.5485 - mean_absolute_error: 2.2903 - val_loss: 15.2608 - val_mean_absolute_error: 2.9009\n",
            "Epoch 93/500\n",
            "3/3 [==============================] - 0s 33ms/step - loss: 11.3730 - mean_absolute_error: 2.2553 - val_loss: 15.6437 - val_mean_absolute_error: 2.8725\n",
            "Epoch 94/500\n",
            "3/3 [==============================] - 0s 34ms/step - loss: 11.2708 - mean_absolute_error: 2.3138 - val_loss: 15.1592 - val_mean_absolute_error: 2.8275\n",
            "Epoch 95/500\n",
            "3/3 [==============================] - 0s 31ms/step - loss: 11.1528 - mean_absolute_error: 2.2829 - val_loss: 15.2502 - val_mean_absolute_error: 2.8420\n",
            "Epoch 96/500\n",
            "3/3 [==============================] - 0s 40ms/step - loss: 10.9885 - mean_absolute_error: 2.2478 - val_loss: 15.0603 - val_mean_absolute_error: 2.7576\n",
            "Epoch 97/500\n",
            "3/3 [==============================] - 0s 38ms/step - loss: 10.7699 - mean_absolute_error: 2.2206 - val_loss: 14.8150 - val_mean_absolute_error: 2.7135\n",
            "Epoch 98/500\n",
            "3/3 [==============================] - 0s 37ms/step - loss: 10.9424 - mean_absolute_error: 2.2638 - val_loss: 14.9947 - val_mean_absolute_error: 2.7891\n",
            "Epoch 99/500\n",
            "3/3 [==============================] - 0s 39ms/step - loss: 10.5758 - mean_absolute_error: 2.1850 - val_loss: 15.2028 - val_mean_absolute_error: 2.7262\n",
            "Epoch 100/500\n",
            "3/3 [==============================] - 0s 43ms/step - loss: 10.4563 - mean_absolute_error: 2.2201 - val_loss: 14.7122 - val_mean_absolute_error: 2.6984\n",
            "Epoch 101/500\n",
            "3/3 [==============================] - 0s 30ms/step - loss: 10.6276 - mean_absolute_error: 2.2097 - val_loss: 14.7498 - val_mean_absolute_error: 2.7648\n",
            "Epoch 102/500\n",
            "3/3 [==============================] - 0s 19ms/step - loss: 10.1912 - mean_absolute_error: 2.1536 - val_loss: 14.6074 - val_mean_absolute_error: 2.6519\n",
            "Epoch 103/500\n",
            "3/3 [==============================] - 0s 21ms/step - loss: 10.3290 - mean_absolute_error: 2.1753 - val_loss: 15.9035 - val_mean_absolute_error: 2.8608\n",
            "Epoch 104/500\n",
            "3/3 [==============================] - 0s 20ms/step - loss: 10.4552 - mean_absolute_error: 2.2054 - val_loss: 15.4007 - val_mean_absolute_error: 2.7917\n",
            "Epoch 105/500\n",
            "3/3 [==============================] - 0s 20ms/step - loss: 10.1869 - mean_absolute_error: 2.2103 - val_loss: 14.4096 - val_mean_absolute_error: 2.7351\n",
            "Epoch 106/500\n",
            "3/3 [==============================] - 0s 18ms/step - loss: 10.0527 - mean_absolute_error: 2.1402 - val_loss: 14.8261 - val_mean_absolute_error: 2.8210\n",
            "Epoch 107/500\n",
            "3/3 [==============================] - 0s 19ms/step - loss: 10.0482 - mean_absolute_error: 2.1148 - val_loss: 14.9451 - val_mean_absolute_error: 2.7116\n",
            "Epoch 108/500\n",
            "3/3 [==============================] - 0s 20ms/step - loss: 9.8652 - mean_absolute_error: 2.1578 - val_loss: 14.7374 - val_mean_absolute_error: 2.6837\n",
            "Epoch 109/500\n",
            "3/3 [==============================] - 0s 20ms/step - loss: 9.8250 - mean_absolute_error: 2.1454 - val_loss: 13.9879 - val_mean_absolute_error: 2.6054\n",
            "Epoch 110/500\n",
            "3/3 [==============================] - 0s 25ms/step - loss: 9.7400 - mean_absolute_error: 2.0986 - val_loss: 14.5313 - val_mean_absolute_error: 2.6371\n",
            "Epoch 111/500\n",
            "3/3 [==============================] - 0s 20ms/step - loss: 9.5658 - mean_absolute_error: 2.0972 - val_loss: 14.8631 - val_mean_absolute_error: 2.7090\n",
            "Epoch 112/500\n",
            "3/3 [==============================] - 0s 25ms/step - loss: 9.5605 - mean_absolute_error: 2.1001 - val_loss: 14.2651 - val_mean_absolute_error: 2.6319\n",
            "Epoch 113/500\n",
            "3/3 [==============================] - 0s 20ms/step - loss: 9.5335 - mean_absolute_error: 2.0755 - val_loss: 14.5639 - val_mean_absolute_error: 2.5219\n",
            "Epoch 114/500\n",
            "3/3 [==============================] - 0s 29ms/step - loss: 9.5269 - mean_absolute_error: 2.1217 - val_loss: 14.3370 - val_mean_absolute_error: 2.6544\n",
            "Epoch 115/500\n",
            "3/3 [==============================] - 0s 22ms/step - loss: 9.5635 - mean_absolute_error: 2.0951 - val_loss: 14.4391 - val_mean_absolute_error: 2.5491\n",
            "Epoch 116/500\n",
            "3/3 [==============================] - 0s 32ms/step - loss: 9.4965 - mean_absolute_error: 2.1161 - val_loss: 14.0804 - val_mean_absolute_error: 2.5356\n",
            "Epoch 117/500\n",
            "3/3 [==============================] - 0s 22ms/step - loss: 9.3230 - mean_absolute_error: 2.0727 - val_loss: 13.9118 - val_mean_absolute_error: 2.5811\n",
            "Epoch 118/500\n",
            "3/3 [==============================] - 0s 19ms/step - loss: 9.1406 - mean_absolute_error: 2.0507 - val_loss: 14.5661 - val_mean_absolute_error: 2.7038\n",
            "Epoch 119/500\n",
            "3/3 [==============================] - 0s 19ms/step - loss: 9.2311 - mean_absolute_error: 2.0905 - val_loss: 13.7767 - val_mean_absolute_error: 2.5189\n",
            "Epoch 120/500\n",
            "3/3 [==============================] - 0s 19ms/step - loss: 9.5194 - mean_absolute_error: 2.1264 - val_loss: 14.1036 - val_mean_absolute_error: 2.6816\n",
            "Epoch 121/500\n",
            "3/3 [==============================] - 0s 21ms/step - loss: 9.2472 - mean_absolute_error: 2.0527 - val_loss: 14.5873 - val_mean_absolute_error: 2.6032\n",
            "Epoch 122/500\n",
            "3/3 [==============================] - 0s 28ms/step - loss: 9.2333 - mean_absolute_error: 2.0868 - val_loss: 14.2520 - val_mean_absolute_error: 2.5020\n",
            "Epoch 123/500\n",
            "3/3 [==============================] - 0s 20ms/step - loss: 9.1179 - mean_absolute_error: 2.0865 - val_loss: 13.9969 - val_mean_absolute_error: 2.5301\n",
            "Epoch 124/500\n",
            "3/3 [==============================] - 0s 21ms/step - loss: 8.8706 - mean_absolute_error: 2.0361 - val_loss: 14.0841 - val_mean_absolute_error: 2.5053\n",
            "Epoch 125/500\n",
            "3/3 [==============================] - 0s 19ms/step - loss: 8.9577 - mean_absolute_error: 2.0854 - val_loss: 13.9092 - val_mean_absolute_error: 2.5049\n",
            "Epoch 126/500\n",
            "3/3 [==============================] - 0s 20ms/step - loss: 8.9462 - mean_absolute_error: 2.0585 - val_loss: 14.7318 - val_mean_absolute_error: 2.5296\n",
            "Epoch 127/500\n",
            "3/3 [==============================] - 0s 20ms/step - loss: 9.3205 - mean_absolute_error: 2.1217 - val_loss: 13.6499 - val_mean_absolute_error: 2.5059\n",
            "Epoch 128/500\n",
            "3/3 [==============================] - 0s 32ms/step - loss: 8.8324 - mean_absolute_error: 2.0302 - val_loss: 14.5850 - val_mean_absolute_error: 2.4859\n",
            "Epoch 129/500\n",
            "3/3 [==============================] - 0s 19ms/step - loss: 8.9367 - mean_absolute_error: 2.0571 - val_loss: 14.2096 - val_mean_absolute_error: 2.5030\n",
            "Epoch 130/500\n",
            "3/3 [==============================] - 0s 23ms/step - loss: 8.6579 - mean_absolute_error: 2.0421 - val_loss: 13.8498 - val_mean_absolute_error: 2.4893\n",
            "Epoch 131/500\n",
            "3/3 [==============================] - 0s 20ms/step - loss: 8.9425 - mean_absolute_error: 2.0720 - val_loss: 13.7861 - val_mean_absolute_error: 2.5871\n",
            "Epoch 132/500\n",
            "3/3 [==============================] - 0s 19ms/step - loss: 8.7069 - mean_absolute_error: 2.0006 - val_loss: 13.9731 - val_mean_absolute_error: 2.5062\n",
            "Epoch 133/500\n",
            "3/3 [==============================] - 0s 22ms/step - loss: 8.7595 - mean_absolute_error: 2.0535 - val_loss: 14.3204 - val_mean_absolute_error: 2.6142\n",
            "Epoch 134/500\n",
            "3/3 [==============================] - 0s 20ms/step - loss: 8.6114 - mean_absolute_error: 2.0462 - val_loss: 14.4639 - val_mean_absolute_error: 2.5819\n",
            "Epoch 135/500\n",
            "3/3 [==============================] - 0s 18ms/step - loss: 8.6068 - mean_absolute_error: 2.0356 - val_loss: 14.9207 - val_mean_absolute_error: 2.7308\n",
            "Epoch 136/500\n",
            "3/3 [==============================] - 0s 20ms/step - loss: 8.6693 - mean_absolute_error: 2.0506 - val_loss: 14.1072 - val_mean_absolute_error: 2.5551\n",
            "Epoch 137/500\n",
            "3/3 [==============================] - 0s 20ms/step - loss: 8.5358 - mean_absolute_error: 2.0026 - val_loss: 13.9571 - val_mean_absolute_error: 2.5562\n",
            "Epoch 138/500\n",
            "3/3 [==============================] - 0s 20ms/step - loss: 8.7052 - mean_absolute_error: 2.0190 - val_loss: 13.7214 - val_mean_absolute_error: 2.6030\n",
            "Epoch 139/500\n",
            "3/3 [==============================] - 0s 19ms/step - loss: 8.4523 - mean_absolute_error: 1.9891 - val_loss: 13.5803 - val_mean_absolute_error: 2.4982\n",
            "Epoch 140/500\n",
            "3/3 [==============================] - 0s 23ms/step - loss: 8.3532 - mean_absolute_error: 1.9899 - val_loss: 13.6672 - val_mean_absolute_error: 2.4918\n",
            "Epoch 141/500\n",
            "3/3 [==============================] - 0s 22ms/step - loss: 8.3638 - mean_absolute_error: 1.9803 - val_loss: 13.5793 - val_mean_absolute_error: 2.5262\n",
            "Epoch 142/500\n",
            "3/3 [==============================] - 0s 21ms/step - loss: 8.4343 - mean_absolute_error: 1.9966 - val_loss: 13.5387 - val_mean_absolute_error: 2.4945\n",
            "Epoch 143/500\n",
            "3/3 [==============================] - 0s 19ms/step - loss: 8.2333 - mean_absolute_error: 1.9510 - val_loss: 14.5172 - val_mean_absolute_error: 2.6159\n",
            "Epoch 144/500\n",
            "3/3 [==============================] - 0s 20ms/step - loss: 8.2600 - mean_absolute_error: 1.9782 - val_loss: 14.5399 - val_mean_absolute_error: 2.4866\n",
            "Epoch 145/500\n",
            "3/3 [==============================] - 0s 22ms/step - loss: 8.4878 - mean_absolute_error: 2.0660 - val_loss: 13.3958 - val_mean_absolute_error: 2.5183\n",
            "Epoch 146/500\n",
            "3/3 [==============================] - 0s 19ms/step - loss: 8.3664 - mean_absolute_error: 1.9694 - val_loss: 13.5312 - val_mean_absolute_error: 2.4570\n",
            "Epoch 147/500\n",
            "3/3 [==============================] - 0s 23ms/step - loss: 8.4008 - mean_absolute_error: 2.0015 - val_loss: 13.6845 - val_mean_absolute_error: 2.4746\n",
            "Epoch 148/500\n",
            "3/3 [==============================] - 0s 19ms/step - loss: 8.2715 - mean_absolute_error: 2.0003 - val_loss: 13.4771 - val_mean_absolute_error: 2.5718\n",
            "Epoch 149/500\n",
            "3/3 [==============================] - 0s 22ms/step - loss: 8.4167 - mean_absolute_error: 1.9873 - val_loss: 13.7657 - val_mean_absolute_error: 2.4464\n",
            "Epoch 150/500\n",
            "3/3 [==============================] - 0s 21ms/step - loss: 8.1131 - mean_absolute_error: 1.9916 - val_loss: 13.5267 - val_mean_absolute_error: 2.4606\n",
            "Epoch 151/500\n",
            "3/3 [==============================] - 0s 30ms/step - loss: 8.2053 - mean_absolute_error: 1.9874 - val_loss: 13.4714 - val_mean_absolute_error: 2.5212\n",
            "Epoch 152/500\n",
            "3/3 [==============================] - 0s 20ms/step - loss: 8.1074 - mean_absolute_error: 1.9657 - val_loss: 13.3968 - val_mean_absolute_error: 2.5535\n",
            "Epoch 153/500\n",
            "3/3 [==============================] - 0s 20ms/step - loss: 8.0938 - mean_absolute_error: 1.9462 - val_loss: 14.1643 - val_mean_absolute_error: 2.5639\n",
            "Epoch 154/500\n",
            "3/3 [==============================] - 0s 20ms/step - loss: 8.1154 - mean_absolute_error: 1.9813 - val_loss: 13.5116 - val_mean_absolute_error: 2.5287\n",
            "Epoch 155/500\n",
            "3/3 [==============================] - 0s 25ms/step - loss: 7.9395 - mean_absolute_error: 1.9104 - val_loss: 13.8415 - val_mean_absolute_error: 2.4452\n",
            "Epoch 156/500\n",
            "3/3 [==============================] - 0s 20ms/step - loss: 8.0361 - mean_absolute_error: 1.9732 - val_loss: 14.0513 - val_mean_absolute_error: 2.5005\n",
            "Epoch 157/500\n",
            "3/3 [==============================] - 0s 19ms/step - loss: 8.0035 - mean_absolute_error: 1.9484 - val_loss: 14.4409 - val_mean_absolute_error: 2.5707\n",
            "Epoch 158/500\n",
            "3/3 [==============================] - 0s 21ms/step - loss: 7.9793 - mean_absolute_error: 2.0046 - val_loss: 14.0161 - val_mean_absolute_error: 2.5365\n",
            "Epoch 159/500\n",
            "3/3 [==============================] - 0s 20ms/step - loss: 8.1517 - mean_absolute_error: 1.9853 - val_loss: 13.6398 - val_mean_absolute_error: 2.5396\n",
            "Epoch 160/500\n",
            "3/3 [==============================] - 0s 18ms/step - loss: 7.8911 - mean_absolute_error: 1.9174 - val_loss: 14.0661 - val_mean_absolute_error: 2.5843\n",
            "Epoch 161/500\n",
            "3/3 [==============================] - 0s 20ms/step - loss: 7.7631 - mean_absolute_error: 1.9297 - val_loss: 13.8907 - val_mean_absolute_error: 2.4507\n",
            "Epoch 162/500\n",
            "3/3 [==============================] - 0s 19ms/step - loss: 8.1463 - mean_absolute_error: 1.9931 - val_loss: 13.7196 - val_mean_absolute_error: 2.5016\n",
            "Epoch 163/500\n",
            "3/3 [==============================] - 0s 24ms/step - loss: 7.9894 - mean_absolute_error: 1.9388 - val_loss: 14.1400 - val_mean_absolute_error: 2.6215\n",
            "Epoch 164/500\n",
            "3/3 [==============================] - 0s 19ms/step - loss: 7.9907 - mean_absolute_error: 1.9814 - val_loss: 13.6013 - val_mean_absolute_error: 2.5184\n",
            "Epoch 165/500\n",
            "3/3 [==============================] - 0s 20ms/step - loss: 7.6827 - mean_absolute_error: 1.9140 - val_loss: 13.6167 - val_mean_absolute_error: 2.4438\n"
          ]
        }
      ]
    },
    {
      "cell_type": "code",
      "source": [
        "score = model.evaluate(x_test_scaled, y_test, verbose=0)\n",
        "print('Test loss:', score[0])\n",
        "print('Test accuracy:', score[1])"
      ],
      "metadata": {
        "colab": {
          "base_uri": "https://localhost:8080/"
        },
        "id": "YywLHL-BBfFG",
        "outputId": "8bf5a268-dca6-4b4f-b3ef-e2e55b955ee6"
      },
      "execution_count": null,
      "outputs": [
        {
          "output_type": "stream",
          "name": "stdout",
          "text": [
            "Test loss: 24.69391441345215\n",
            "Test accuracy: 2.98757004737854\n"
          ]
        }
      ]
    },
    {
      "cell_type": "code",
      "source": [
        "prediction = model.predict(x_test_scaled)\n",
        "print(prediction.flatten())\n",
        "print(y_test)\n"
      ],
      "metadata": {
        "colab": {
          "base_uri": "https://localhost:8080/"
        },
        "id": "V-fdTXHeBoRp",
        "outputId": "157a43fc-d0b0-4563-88d1-7dbd706af965"
      },
      "execution_count": null,
      "outputs": [
        {
          "output_type": "stream",
          "name": "stdout",
          "text": [
            "4/4 [==============================] - 0s 3ms/step\n",
            "[ 7.8982472 17.942911  20.930115  33.382442  24.608843  19.16551\n",
            " 27.588234  22.018545  19.289196  22.220552  17.226427  16.333693\n",
            " 16.176245  41.10094   19.998749  19.49204   26.22775   19.939028\n",
            " 19.141615  36.92127   12.315139  15.918386  20.602259  15.410471\n",
            " 21.38143   24.884207  30.402636  28.021963  10.748499  20.83661\n",
            " 20.244158  14.0009575 32.592102  24.63807   18.057074   9.041084\n",
            " 15.501806  18.88954   19.99048   25.99135   27.860472  27.638319\n",
            " 14.904007  41.347027  28.929363  23.904242  26.475233  16.786467\n",
            " 23.482672  22.683025  34.378574  18.309923  12.940126  15.420143\n",
            " 34.991135  27.143213  13.109318  48.43059   33.718525  22.50103\n",
            " 25.662527  17.954481  14.336828  18.651777  23.519972  21.713709\n",
            " 13.1795025 21.988964  14.941265   7.3486056 36.388157  28.913652\n",
            " 25.283585  14.796492  25.612288  17.864628  20.06618   23.951075\n",
            " 34.560917  11.811614  20.276052  38.594925  14.976431  13.861254\n",
            " 17.413109  18.449745  21.286837  20.865036  22.769197  31.027092\n",
            " 19.302868  19.806543  25.208672  41.779255  34.71242   18.750044\n",
            " 35.882854  52.70232   26.677443  44.804935  31.935104  20.583609 ]\n",
            "[ 7.2 18.8 19.  27.  22.2 24.5 31.2 22.9 20.5 23.2 18.6 14.5 17.8 50.\n",
            " 20.8 24.3 24.2 19.8 19.1 22.7 12.  10.2 20.  18.5 20.9 23.  27.5 30.1\n",
            "  9.5 22.  21.2 14.1 33.1 23.4 20.1  7.4 15.4 23.8 20.1 24.5 33.  28.4\n",
            " 14.1 46.7 32.5 29.6 28.4 19.8 20.2 25.  35.4 20.3  9.7 14.5 34.9 26.6\n",
            "  7.2 50.  32.4 21.6 29.8 13.1 27.5 21.2 23.1 21.9 13.  23.2  8.1  5.6\n",
            " 21.7 29.6 19.6  7.  26.4 18.9 20.9 28.1 35.4 10.2 24.3 43.1 17.6 15.4\n",
            " 16.2 27.1 21.4 21.5 22.4 25.  16.6 18.6 22.  42.8 35.1 21.5 36.  21.9\n",
            " 24.1 50.  26.7 25. ]\n"
          ]
        }
      ]
    },
    {
      "cell_type": "code",
      "source": [
        "import matplotlib.pyplot as plt\n"
      ],
      "metadata": {
        "id": "w7bQJ_DtBwlT"
      },
      "execution_count": null,
      "outputs": []
    },
    {
      "cell_type": "code",
      "source": [
        "plt.plot(history.history['loss'])\n",
        "plt.plot(history.history['val_loss'])\n",
        "plt.show()"
      ],
      "metadata": {
        "colab": {
          "base_uri": "https://localhost:8080/",
          "height": 265
        },
        "id": "ARpfEzRvB7NK",
        "outputId": "bde3e9c6-c149-476d-ecef-10581a92a21e"
      },
      "execution_count": null,
      "outputs": [
        {
          "output_type": "display_data",
          "data": {
            "text/plain": [
              "<Figure size 432x288 with 1 Axes>"
            ],
            "image/png": "[encoded data removed]"
          },
          "metadata": {
            "needs_background": "light"
          }
        }
      ]
    }
  ]
}