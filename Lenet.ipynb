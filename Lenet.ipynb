{
  "nbformat": 4,
  "nbformat_minor": 0,
  "metadata": {
    "colab": {
      "provenance": []
    },
    "kernelspec": {
      "name": "python3",
      "display_name": "Python 3"
    },
    "language_info": {
      "name": "python"
    },
    "accelerator": "GPU",
    "gpuClass": "standard"
  },
  "cells": [
    {
      "cell_type": "code",
      "execution_count": null,
      "metadata": {
        "id": "xCRhQ9KXIxCE"
      },
      "outputs": [],
      "source": [
        "import keras\n",
        "from keras.datasets import mnist\n",
        "from keras.models import Sequential\n",
        "from keras.layers import Dense, Dropout, Flatten\n",
        "from keras.layers import Conv2D, MaxPooling2D\n",
        "from keras import backend as K\n",
        "import numpy as np"
      ]
    },
    {
      "cell_type": "code",
      "source": [
        "(x_train, y_train), (x_test, y_test) = mnist.load_data()"
      ],
      "metadata": {
        "colab": {
          "base_uri": "https://localhost:8080/"
        },
        "id": "dbuLW49PJvS_",
        "outputId": "04a38c1b-cd3e-4787-820f-2efb151669a4"
      },
      "execution_count": null,
      "outputs": [
        {
          "output_type": "stream",
          "name": "stdout",
          "text": [
            "Downloading data from https://storage.googleapis.com/tensorflow/tf-keras-datasets/mnist.npz\n",
            "11490434/11490434 [==============================] - 2s 0us/step\n"
          ]
        }
      ]
    },
    {
      "cell_type": "code",
      "source": [
        "x_train = x_train.astype('float32')\n",
        "x_test = x_test.astype('float32')\n",
        "x_train /= 255\n",
        "x_test /= 255\n",
        "y_train = keras.utils.to_categorical(y_train, 10)\n",
        "y_test = keras.utils.to_categorical(y_test, 10)"
      ],
      "metadata": {
        "id": "hH5XTrpcJwrE"
      },
      "execution_count": null,
      "outputs": []
    },
    {
      "cell_type": "code",
      "source": [
        "import tensorflow as tf\n",
        "from tensorflow.keras import layers"
      ],
      "metadata": {
        "id": "MBZOT-HfO78g"
      },
      "execution_count": null,
      "outputs": []
    },
    {
      "cell_type": "code",
      "source": [
        "# Define the LeNet-5 model\n",
        "def LeNet5(input_shape, num_classes):\n",
        "    model = tf.keras.Sequential([\n",
        "        layers.Conv2D(filters=6, kernel_size=(5, 5),padding='same', activation='tanh', input_shape=input_shape),\n",
        "        layers.AveragePooling2D(pool_size=(2, 2)),\n",
        "        layers.Conv2D(filters=16, kernel_size=(5, 5), activation='tanh'),\n",
        "        layers.AveragePooling2D(pool_size=(2, 2)),\n",
        "        layers.Flatten(),\n",
        "        layers.Dense(units=120, activation='tanh'),\n",
        "        layers.Dense(units=84, activation='tanh'),\n",
        "        layers.Dense(units=num_classes, activation='softmax')\n",
        "    ])\n",
        "    return model\n",
        "\n",
        "# Create an instance of the LeNet-5 model\n",
        "model = LeNet5(input_shape=(28, 28, 1), num_classes=10)\n",
        "\n",
        "# Compile the model\n",
        "model.compile(optimizer='adam', loss='categorical_crossentropy', metrics=['accuracy'])\n",
        "\n",
        "# Train the model\n",
        "model.fit(x_train, y_train, epochs=10, validation_data=(x_test, y_test))"
      ],
      "metadata": {
        "colab": {
          "base_uri": "https://localhost:8080/"
        },
        "id": "fc_2OhJYLq4C",
        "outputId": "40c148bf-6dc2-4d08-f7f8-4b957a23aace"
      },
      "execution_count": null,
      "outputs": [
        {
          "output_type": "stream",
          "name": "stdout",
          "text": [
            "Epoch 1/10\n",
            "1875/1875 [==============================] - 10s 5ms/step - loss: 0.2193 - accuracy: 0.9344 - val_loss: 0.1012 - val_accuracy: 0.9690\n",
            "Epoch 2/10\n",
            "1875/1875 [==============================] - 8s 5ms/step - loss: 0.0886 - accuracy: 0.9729 - val_loss: 0.0781 - val_accuracy: 0.9754\n",
            "Epoch 3/10\n",
            "1875/1875 [==============================] - 9s 5ms/step - loss: 0.0594 - accuracy: 0.9817 - val_loss: 0.0564 - val_accuracy: 0.9825\n",
            "Epoch 4/10\n",
            "1875/1875 [==============================] - 9s 5ms/step - loss: 0.0451 - accuracy: 0.9859 - val_loss: 0.0544 - val_accuracy: 0.9820\n",
            "Epoch 5/10\n",
            "1875/1875 [==============================] - 8s 4ms/step - loss: 0.0383 - accuracy: 0.9878 - val_loss: 0.0497 - val_accuracy: 0.9847\n",
            "Epoch 6/10\n",
            "1875/1875 [==============================] - 9s 5ms/step - loss: 0.0284 - accuracy: 0.9909 - val_loss: 0.0577 - val_accuracy: 0.9818\n",
            "Epoch 7/10\n",
            "1875/1875 [==============================] - 9s 5ms/step - loss: 0.0257 - accuracy: 0.9919 - val_loss: 0.0501 - val_accuracy: 0.9861\n",
            "Epoch 8/10\n",
            "1875/1875 [==============================] - 9s 5ms/step - loss: 0.0216 - accuracy: 0.9929 - val_loss: 0.0499 - val_accuracy: 0.9851\n",
            "Epoch 9/10\n",
            "1875/1875 [==============================] - 8s 4ms/step - loss: 0.0190 - accuracy: 0.9937 - val_loss: 0.0509 - val_accuracy: 0.9870\n",
            "Epoch 10/10\n",
            "1875/1875 [==============================] - 9s 5ms/step - loss: 0.0157 - accuracy: 0.9949 - val_loss: 0.0572 - val_accuracy: 0.9855\n"
          ]
        },
        {
          "output_type": "execute_result",
          "data": {
            "text/plain": [
              "<keras.callbacks.History at 0x7fbd69ab73a0>"
            ]
          },
          "metadata": {},
          "execution_count": 7
        }
      ]
    }
  ]
}